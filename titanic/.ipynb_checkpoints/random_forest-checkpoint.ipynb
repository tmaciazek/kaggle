{
 "cells": [
  {
   "cell_type": "markdown",
   "id": "44d227f9",
   "metadata": {},
   "source": [
    "# Titanic competition via random forests\n",
    "\n",
    "In this notebook, we will predict passenger survival using random forests.\n",
    "\n",
    "We start off by loading some of the necessary libraries and the cleaned data generated in `titanic_data_cleaning.ipynb`."
   ]
  },
  {
   "cell_type": "code",
   "execution_count": 1,
   "id": "b5f7e8f9",
   "metadata": {},
   "outputs": [],
   "source": [
    "import numpy as np\n",
    "import pandas as pd\n",
    "\n",
    "import matplotlib.pyplot as plt\n",
    "\n",
    "from sklearn.ensemble import RandomForestClassifier\n",
    "from sklearn.model_selection import StratifiedKFold\n",
    "from sklearn.model_selection import cross_val_score\n",
    "from sklearn.metrics import accuracy_score\n",
    "from sklearn.model_selection import GridSearchCV"
   ]
  },
  {
   "cell_type": "code",
   "execution_count": 2,
   "id": "ca8507ba",
   "metadata": {},
   "outputs": [
    {
     "name": "stdout",
     "output_type": "stream",
     "text": [
      "Training data shape:\t(891, 27)\n"
     ]
    }
   ],
   "source": [
    "titanic = pd.read_csv( 'data/train_cleaned.csv' )\n",
    "test = pd.read_csv( 'data/test_cleaned.csv' )\n",
    "\n",
    "# Remove the 'PassengerId' from the data and keep the 'Survived' column as target vector Y.\n",
    "submission=test[['PassengerId']]\n",
    "test=test.drop('PassengerId', axis=1)\n",
    "\n",
    "X=titanic.drop('Survived', axis=1)\n",
    "X=X.drop('PassengerId', axis=1)\n",
    "Y=titanic[['Survived']]\n",
    "data=X.to_numpy()\n",
    "target=Y.to_numpy().reshape(-1,)\n",
    "\n",
    "y_true=Y.values.T[0] # ground truth vector\n",
    "\n",
    "print(\n",
    "\"Training data shape:\\t\" + str(data.shape)\n",
    ")\n"
   ]
  },
  {
   "cell_type": "markdown",
   "id": "adf5921a",
   "metadata": {},
   "source": [
    "Next, we define the random forest classifier."
   ]
  },
  {
   "cell_type": "code",
   "execution_count": 3,
   "id": "c0485cca",
   "metadata": {},
   "outputs": [],
   "source": [
    "clf = RandomForestClassifier(n_estimators=500, criterion='gini', oob_score=True, n_jobs=-1, random_state=42)"
   ]
  },
  {
   "cell_type": "markdown",
   "id": "29a74625",
   "metadata": {},
   "source": [
    "## Choosing classifier parameters\n",
    "\n",
    "We will focus on the parameters `min_samples_split` and `max_features` (see the documentation for more info).\n",
    "\n",
    "By default, `max_features`  is set to the square root of the number of features which is $\\sqrt{27}\\approx 5$. However, for the random forset to work well wich such a low number of features, we would need all the features to be quite informative about the passenger's survival. It seems like many of our features alone (like ticket number length) might not be very informative. Thus, we set `max_features` to $8$ as a middle ground between having informative features and keeping the trees possibly uncorrelated.\n",
    "\n",
    "Thus, we focus on the regularisation of the trees via controlling the `min_samples_split` parameter."
   ]
  },
  {
   "cell_type": "code",
   "execution_count": 4,
   "id": "9ffb6d3f",
   "metadata": {},
   "outputs": [],
   "source": [
    "param_grid = { \n",
    "    \"min_samples_split\" : range(2,100,5),\n",
    "    \"max_features\": [8]\n",
    "}"
   ]
  },
  {
   "cell_type": "code",
   "execution_count": 5,
   "id": "593048eb",
   "metadata": {},
   "outputs": [
    {
     "name": "stdout",
     "output_type": "stream",
     "text": [
      "Best parameter (CV score=0.831):\n",
      "{'max_features': 8, 'min_samples_split': 7}\n"
     ]
    }
   ],
   "source": [
    "search = GridSearchCV(\n",
    "    clf, param_grid, n_jobs=-1, return_train_score=True, cv=StratifiedKFold(\n",
    "        n_splits=7, shuffle=True, random_state=84\n",
    "    )\n",
    ")\n",
    "\n",
    "search.fit(data, target)\n",
    "\n",
    "print(\n",
    "    \"Best parameter (CV score=%0.3f):\" % search.best_score_\n",
    ")\n",
    "\n",
    "print(search.best_params_)"
   ]
  },
  {
   "cell_type": "markdown",
   "id": "b60e41a0",
   "metadata": {},
   "source": [
    "For each `max_features` value, find the best classifier results."
   ]
  },
  {
   "cell_type": "code",
   "execution_count": 6,
   "id": "72b42650",
   "metadata": {},
   "outputs": [
    {
     "data": {
      "image/png": "[encoded data removed]",
      "text/plain": [
       "<Figure size 600x600 with 1 Axes>"
      ]
     },
     "metadata": {},
     "output_type": "display_data"
    }
   ],
   "source": [
    "fig, ax1 = plt.subplots(nrows=1, figsize=(6, 6))\n",
    "results = pd.DataFrame(search.cv_results_)\n",
    "features_col = \"param_min_samples_split\"\n",
    "best_clfs = results.groupby(\"param_min_samples_split\").apply(\n",
    "    lambda g: g.nlargest(1, \"mean_test_score\", keep='first')\n",
    ")\n",
    "\n",
    "best_clfs.plot(\n",
    "    x=features_col, y=\"mean_train_score\", legend=False, ax=ax1, c='black', label=\"training\"\n",
    ")\n",
    "\n",
    "best_clfs.plot(\n",
    "    x=features_col, y=\"mean_test_score\", yerr=\"std_test_score\", legend=False, ax=ax1, c='orange', label=\"CV\"\n",
    ")\n",
    "\n",
    "ax1.axvline(\n",
    "    np.where(\n",
    "        best_clfs[\"param_min_samples_split\"] == search.best_params_['min_samples_split']\n",
    "    ),\n",
    "    linestyle=\":\"\n",
    ")\n",
    "\n",
    "ax1.legend(prop=dict(size=12))\n",
    "\n",
    "ax1.set_ylabel(\"CV accuracy\")\n",
    "ax1.set_xlabel(\"min_samples_split\")\n",
    "ax1.set_box_aspect(.5)"
   ]
  },
  {
   "cell_type": "markdown",
   "id": "ed5fe4c6",
   "metadata": {},
   "source": [
    "We can see that the CV accuracy does not change much when tuning the parameters, however the degree of overfitting changes significantly.\n",
    "\n",
    "The grid search shows that the optimal value of the `min_samples_split` parameter is 7. However, because we would like to reduce overfitting, we will set `min_samples_split` to $30$."
   ]
  },
  {
   "cell_type": "markdown",
   "id": "a2f13cec",
   "metadata": {},
   "source": [
    "## Predictions\n",
    "\n",
    "We set `min_samples_split` and `max_features` parameters the optimal ones and fit the classifier."
   ]
  },
  {
   "cell_type": "code",
   "execution_count": 7,
   "id": "992d8000",
   "metadata": {},
   "outputs": [
    {
     "name": "stdout",
     "output_type": "stream",
     "text": [
      "Training accuracy:\t0.877665544332211\n",
      "CV accuracy:\t0.8080785889146945\n",
      "CV std:\t0.012538248683368988\n",
      "Out-of-bag score:\t0.8271604938271605\n"
     ]
    }
   ],
   "source": [
    "opt_params={\n",
    "    'min_samples_split': 30,\n",
    "    'max_features': 8,\n",
    "    'n_estimators': 500\n",
    "}\n",
    "clf.set_params(**opt_params)\n",
    "\n",
    "clf.fit(data, target)\n",
    "y_pred=clf.predict(data)\n",
    "print(\"Training accuracy:\\t\"+str(accuracy_score(y_true, y_pred)))\n",
    "\n",
    "scores = cross_val_score(\n",
    "    clf, data, target, cv=StratifiedKFold(\n",
    "        n_splits=5, shuffle=True\n",
    "    ), scoring='accuracy'\n",
    ")\n",
    "print( \"CV accuracy:\\t\" + str(scores.mean()) )\n",
    "print( \"CV std:\\t\" + str(scores.std()) )\n",
    "print( \"Out-of-bag score:\\t\" + str(clf.oob_score_) )"
   ]
  },
  {
   "cell_type": "markdown",
   "id": "ef84fe67",
   "metadata": {},
   "source": [
    "Finally, we create the submission file."
   ]
  },
  {
   "cell_type": "code",
   "execution_count": 8,
   "id": "73aae780",
   "metadata": {},
   "outputs": [
    {
     "name": "stdout",
     "output_type": "stream",
     "text": [
      "   PassengerId  Survived\n",
      "0          892         0\n",
      "1          893         0\n",
      "2          894         0\n",
      "3          895         0\n",
      "4          896         1\n"
     ]
    },
    {
     "name": "stderr",
     "output_type": "stream",
     "text": [
      "/Library/Frameworks/Python.framework/Versions/3.11/lib/python3.11/site-packages/sklearn/base.py:432: UserWarning: X has feature names, but RandomForestClassifier was fitted without feature names\n",
      "  warnings.warn(\n"
     ]
    }
   ],
   "source": [
    "submission[\"Survived\"]=clf.predict(test)\n",
    "print(submission.head())\n",
    "submission.to_csv('submission_forest.csv',index=False)"
   ]
  },
  {
   "cell_type": "code",
   "execution_count": null,
   "id": "f74e1194",
   "metadata": {},
   "outputs": [],
   "source": []
  }
 ],
 "metadata": {
  "kernelspec": {
   "display_name": "Python 3 (ipykernel)",
   "language": "python",
   "name": "python3"
  },
  "language_info": {
   "codemirror_mode": {
    "name": "ipython",
    "version": 3
   },
   "file_extension": ".py",
   "mimetype": "text/x-python",
   "name": "python",
   "nbconvert_exporter": "python",
   "pygments_lexer": "ipython3",
   "version": "3.11.2"
  }
 },
 "nbformat": 4,
 "nbformat_minor": 5
}
